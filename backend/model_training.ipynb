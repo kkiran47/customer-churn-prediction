{
 "cells": [
  {
   "cell_type": "markdown",
   "metadata": {},
   "source": [
    "# Customer Churn Model Training"
   ]
  },
  {
   "cell_type": "code",
   "execution_count": 1,
   "metadata": {},
   "outputs": [
    {
     "name": "stdout",
     "output_type": "stream",
     "text": [
      "✅ Saved log_reg.pkl\n",
      "✅ Saved decision_tree.pkl\n",
      "✅ Saved random_forest.pkl\n",
      "✅ Saved svm.pkl\n",
      "✅ Saved scaler.pkl and encoders.pkl\n",
      "log_reg.pkl test accuracy: 0.815\n",
      "decision_tree.pkl test accuracy: 0.794\n",
      "random_forest.pkl test accuracy: 0.787\n",
      "svm.pkl test accuracy: 0.807\n"
     ]
    }
   ],
   "source": [
    "# churn_model_training_py313.py\n",
    "import pandas as pd\n",
    "import numpy as np\n",
    "from sklearn.model_selection import train_test_split\n",
    "from sklearn.preprocessing import LabelEncoder, StandardScaler\n",
    "from sklearn.linear_model import LogisticRegression\n",
    "from sklearn.tree import DecisionTreeClassifier\n",
    "from sklearn.ensemble import RandomForestClassifier\n",
    "from sklearn.svm import SVC\n",
    "import joblib\n",
    "import os\n",
    "\n",
    "# ----------------------------\n",
    "# 1️⃣ Load Dataset\n",
    "# ----------------------------\n",
    "df = pd.read_csv(\"WA_Fn-UseC_-Telco-Customer-Churn.csv\")\n",
    "\n",
    "# Convert 'TotalCharges' to numeric safely\n",
    "df['TotalCharges'] = pd.to_numeric(df['TotalCharges'], errors='coerce')\n",
    "df['TotalCharges'] = df['TotalCharges'].fillna(df['TotalCharges'].median())\n",
    "\n",
    "# ----------------------------\n",
    "# 2️⃣ Encode Categorical Columns\n",
    "# ----------------------------\n",
    "encoders = {}\n",
    "for col in df.select_dtypes(include=['object']).columns:\n",
    "    if col != 'customerID':  # skip ID\n",
    "        le = LabelEncoder()\n",
    "        df[col] = le.fit_transform(df[col])\n",
    "        encoders[col] = le  # save encoder\n",
    "\n",
    "# Drop customerID column\n",
    "df = df.drop('customerID', axis=1)\n",
    "\n",
    "# ----------------------------\n",
    "# 3️⃣ Split Features & Labels\n",
    "# ----------------------------\n",
    "X = df.drop('Churn', axis=1)\n",
    "y = df['Churn']\n",
    "\n",
    "# Scale numeric features\n",
    "scaler = StandardScaler()\n",
    "X = scaler.fit_transform(X)\n",
    "\n",
    "# Train/Test split\n",
    "X_train, X_test, y_train, y_test = train_test_split(\n",
    "    X, y, test_size=0.2, random_state=42\n",
    ")\n",
    "\n",
    "# ----------------------------\n",
    "# 4️⃣ Train Models\n",
    "# ----------------------------\n",
    "models = {\n",
    "    'log_reg.pkl': LogisticRegression(max_iter=1000),\n",
    "    'decision_tree.pkl': DecisionTreeClassifier(max_depth=5),\n",
    "    'random_forest.pkl': RandomForestClassifier(n_estimators=100),\n",
    "    'svm.pkl': SVC(probability=True)\n",
    "}\n",
    "\n",
    "# Ensure models folder exists\n",
    "os.makedirs(\"models\", exist_ok=True)\n",
    "\n",
    "for filename, model in models.items():\n",
    "    model.fit(X_train, y_train)\n",
    "    joblib.dump(model, f\"models/{filename}\")\n",
    "    print(f\"✅ Saved {filename}\")\n",
    "\n",
    "# ----------------------------\n",
    "# 5️⃣ Save Scaler & Encoders\n",
    "# ----------------------------\n",
    "joblib.dump(scaler, \"models/scaler.pkl\")\n",
    "joblib.dump(encoders, \"models/encoders.pkl\")\n",
    "print(\"✅ Saved scaler.pkl and encoders.pkl\")\n",
    "\n",
    "# ----------------------------\n",
    "# 6️⃣ Optional: Check Accuracy\n",
    "# ----------------------------\n",
    "for name, model in models.items():\n",
    "    score = model.score(X_test, y_test)\n",
    "    print(f\"{name} test accuracy: {score:.3f}\")\n"
   ]
  }
 ],
 "metadata": {
  "kernelspec": {
   "display_name": "Python 3",
   "language": "python",
   "name": "python3"
  },
  "language_info": {
   "codemirror_mode": {
    "name": "ipython",
    "version": 3
   },
   "file_extension": ".py",
   "mimetype": "text/x-python",
   "name": "python",
   "nbconvert_exporter": "python",
   "pygments_lexer": "ipython3",
   "version": "3.11.9"
  }
 },
 "nbformat": 4,
 "nbformat_minor": 5
}
