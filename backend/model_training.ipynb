{
 "cells": [
  {
   "cell_type": "markdown",
   "metadata": {},
   "source": [
    "# Customer Churn Model Training"
   ]
  },
  {
   "cell_type": "code",
   "execution_count": 1,
   "metadata": {},
   "outputs": [
    {
     "name": "stderr",
     "output_type": "stream",
     "text": [
      "C:\\Users\\Sai kumar\\AppData\\Local\\Temp\\ipykernel_13708\\2777712176.py:18: FutureWarning: A value is trying to be set on a copy of a DataFrame or Series through chained assignment using an inplace method.\n",
      "The behavior will change in pandas 3.0. This inplace method will never work because the intermediate object on which we are setting values always behaves as a copy.\n",
      "\n",
      "For example, when doing 'df[col].method(value, inplace=True)', try using 'df.method({col: value}, inplace=True)' or df[col] = df[col].method(value) instead, to perform the operation inplace on the original object.\n",
      "\n",
      "\n",
      "  df['TotalCharges'].fillna(df['TotalCharges'].median(), inplace=True)\n"
     ]
    },
    {
     "name": "stdout",
     "output_type": "stream",
     "text": [
      "✅ Saved log_reg.pkl\n",
      "✅ Saved decision_tree.pkl\n",
      "✅ Saved random_forest.pkl\n",
      "✅ Saved svm.pkl\n",
      "✅ Saved scaler.pkl and encoders.pkl\n"
     ]
    }
   ],
   "source": [
    "import pandas as pd\n",
    "import numpy as np\n",
    "from sklearn.model_selection import train_test_split\n",
    "from sklearn.preprocessing import LabelEncoder, StandardScaler\n",
    "from sklearn.linear_model import LogisticRegression\n",
    "from sklearn.tree import DecisionTreeClassifier\n",
    "from sklearn.ensemble import RandomForestClassifier\n",
    "from sklearn.svm import SVC\n",
    "import pickle\n",
    "import joblib\n",
    "import os\n",
    "\n",
    "# Load dataset\n",
    "df = pd.read_csv('WA_Fn-UseC_-Telco-Customer-Churn.csv')\n",
    "\n",
    "# Clean numeric column\n",
    "df['TotalCharges'] = pd.to_numeric(df['TotalCharges'], errors='coerce')\n",
    "df['TotalCharges'].fillna(df['TotalCharges'].median(), inplace=True)\n",
    "\n",
    "# Apply LabelEncoders and store them\n",
    "encoders = {}\n",
    "for col in df.select_dtypes(include=['object']).columns:\n",
    "    if col != 'customerID':\n",
    "        le = LabelEncoder()\n",
    "        df[col] = le.fit_transform(df[col])\n",
    "        encoders[col] = le  # save encoder for this column\n",
    "\n",
    "# Drop customerID\n",
    "df = df.drop('customerID', axis=1)\n",
    "\n",
    "# Split features/labels\n",
    "X = df.drop('Churn', axis=1)\n",
    "y = df['Churn']\n",
    "\n",
    "# Scale features\n",
    "scaler = StandardScaler()\n",
    "X = scaler.fit_transform(X)\n",
    "\n",
    "# Train/test split\n",
    "X_train, X_test, y_train, y_test = train_test_split(\n",
    "    X, y, test_size=0.2, random_state=42\n",
    ")\n",
    "\n",
    "# Models\n",
    "models = {\n",
    "    'log_reg.pkl': LogisticRegression(max_iter=1000),\n",
    "    'decision_tree.pkl': DecisionTreeClassifier(max_depth=5),\n",
    "    'random_forest.pkl': RandomForestClassifier(n_estimators=100),\n",
    "    'svm.pkl': SVC(probability=True)\n",
    "}\n",
    "\n",
    "# Ensure models folder exists\n",
    "os.makedirs(\"models\", exist_ok=True)\n",
    "\n",
    "# Train & save\n",
    "for filename, model in models.items():\n",
    "    model.fit(X_train, y_train)\n",
    "    pickle.dump(model, open(f'models/{filename}', 'wb'))\n",
    "    print(f'✅ Saved {filename}')\n",
    "\n",
    "# Save scaler + encoders\n",
    "joblib.dump(scaler, \"models/scaler.pkl\")\n",
    "joblib.dump(encoders, \"models/encoders.pkl\")\n",
    "print(\"✅ Saved scaler.pkl and encoders.pkl\")\n"
   ]
  }
 ],
 "metadata": {
  "kernelspec": {
   "display_name": "Python 3",
   "language": "python",
   "name": "python3"
  },
  "language_info": {
   "codemirror_mode": {
    "name": "ipython",
    "version": 3
   },
   "file_extension": ".py",
   "mimetype": "text/x-python",
   "name": "python",
   "nbconvert_exporter": "python",
   "pygments_lexer": "ipython3",
   "version": "3.11.9"
  }
 },
 "nbformat": 4,
 "nbformat_minor": 5
}
